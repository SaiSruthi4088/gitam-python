{
 "cells": [
  {
   "cell_type": "markdown",
   "metadata": {},
   "source": [
    "# markdown basics\n",
    "## markdown basics\n",
    "### markdown basics\n",
    "#### markdown basics\n",
    "##### markdown basics\n",
    "\n",
    "* **point1**\n",
    "* *point2*\n",
    "* ***point3***\n",
    "\n",
    "* normal text\n",
    "* sublist 1\n",
    "* sublist 2\n",
    "\n",
    "> 1.point1\n",
    "> 2.point2\n",
    "\n",
    "* []option1\n",
    "* []option2\n",
    "\n",
    "* google site --[1]: http://www.google.com\n",
    "* msn site --[2]: http://www.msn.com\n",
    "\n",
    "* []option 1\n",
    "* google site --[google][1]\n",
    "[1]: http://www.google.com\n",
    " "
   ]
  },
  {
   "cell_type": "markdown",
   "metadata": {},
   "source": [
    "### python basics\n",
    "* python version 3.7\n",
    "- functional programming\n",
    "- object oriented programming \n",
    "- scripting programming"
   ]
  },
  {
   "cell_type": "code",
   "execution_count": 15,
   "metadata": {},
   "outputs": [
    {
     "name": "stdout",
     "output_type": "stream",
     "text": [
      "Hello Gitam\n"
     ]
    }
   ],
   "source": [
    "print(\"Hello Gitam\")\n"
   ]
  },
  {
   "cell_type": "code",
   "execution_count": 16,
   "metadata": {},
   "outputs": [
    {
     "name": "stdout",
     "output_type": "stream",
     "text": [
      "Hello Gitam\n",
      "Hyerabad\n"
     ]
    }
   ],
   "source": [
    "print(\"Hello Gitam\")\n",
    "print(\"Hyerabad\")"
   ]
  },
  {
   "cell_type": "code",
   "execution_count": 17,
   "metadata": {},
   "outputs": [
    {
     "name": "stdout",
     "output_type": "stream",
     "text": [
      "Hello,Gitam ||| Hyderabad||| python programming\n"
     ]
    }
   ],
   "source": [
    "print(\"Hello,Gitam\",\"|||\",end=\" \")\n",
    "print(\"Hyderabad\",end=\"||| \")\n",
    "print(\"python programming\")"
   ]
  },
  {
   "cell_type": "code",
   "execution_count": 18,
   "metadata": {},
   "outputs": [
    {
     "name": "stdout",
     "output_type": "stream",
     "text": [
      "100\n",
      "20 20 20\n",
      "111 222 333\n"
     ]
    }
   ],
   "source": [
    "n1=100 # single variable assignment\n",
    "a=b=c=20 #multi variable assignment of the same value\n",
    "a1,b1,c1=111,222,333 # multi variable assignment with different value\n",
    "print(n1)\n",
    "print(a,b,c)\n",
    "print(a1,b1,c1)"
   ]
  },
  {
   "cell_type": "markdown",
   "metadata": {},
   "source": [
    "### Data types and conversions\n",
    "* int \n",
    "* float\n",
    "* string"
   ]
  },
  {
   "cell_type": "code",
   "execution_count": 22,
   "metadata": {},
   "outputs": [
    {
     "name": "stdout",
     "output_type": "stream",
     "text": [
      "100 python p 10.2\n",
      "<class 'int'> <class 'str'> <class 'str'> <class 'float'>\n"
     ]
    }
   ],
   "source": [
    "a=100\n",
    "s1=\"python\"\n",
    "s2=\"p\"\n",
    "f1=10.2\n",
    "print(a,s1,s2,f1)\n",
    "print(type(a),type(s1),type(s2),type(f1))"
   ]
  },
  {
   "cell_type": "code",
   "execution_count": 21,
   "metadata": {},
   "outputs": [
    {
     "name": "stdout",
     "output_type": "stream",
     "text": [
      "Hello world!\n",
      "Hello world!\n"
     ]
    }
   ],
   "source": [
    "print(\"Hello world!\\nHello world!\")"
   ]
  },
  {
   "cell_type": "code",
   "execution_count": 4,
   "metadata": {},
   "outputs": [
    {
     "name": "stdout",
     "output_type": "stream",
     "text": [
      "<class 'str'>\n",
      "<class 'int'>\n",
      "<class 'float'>\n"
     ]
    }
   ],
   "source": [
    "s1='100'\n",
    "print(type(s1))\n",
    "a1=int(s1)\n",
    "print(type(a1))\n",
    "f=1.5\n",
    "a1=float(f)\n",
    "print(type(a1))"
   ]
  },
  {
   "cell_type": "code",
   "execution_count": 2,
   "metadata": {},
   "outputs": [
    {
     "name": "stdout",
     "output_type": "stream",
     "text": [
      "4\n"
     ]
    }
   ],
   "source": [
    "# a number is given 1234\n",
    "# digit count\n",
    "a1=1234\n",
    "print(len(str(a1)))"
   ]
  },
  {
   "cell_type": "markdown",
   "metadata": {},
   "source": [
    "# reading a value\n",
    "* input(\"message\") --string"
   ]
  },
  {
   "cell_type": "code",
   "execution_count": 5,
   "metadata": {},
   "outputs": [
    {
     "name": "stdout",
     "output_type": "stream",
     "text": [
      "enter your nameSruthi\n",
      "Sruthi\n",
      "<class 'str'>\n"
     ]
    }
   ],
   "source": [
    "s1=input(\"enter your name\")\n",
    "print(s1)\n",
    "print(type(s1))"
   ]
  },
  {
   "cell_type": "code",
   "execution_count": 2,
   "metadata": {},
   "outputs": [
    {
     "name": "stdout",
     "output_type": "stream",
     "text": [
      "enter a number5\n",
      "5 <class 'int'>\n"
     ]
    }
   ],
   "source": [
    "#want anumber as a input\n",
    "n1=int(input(\"enter a number\"))\n",
    "print(n1,type(n1))"
   ]
  },
  {
   "cell_type": "markdown",
   "metadata": {},
   "source": [
    "# operators\n",
    "* operator is a symbol used to perform a specified kind of operations\n",
    "# Arithmetic operators\n",
    "* +\n",
    "* -\n",
    "* *\n",
    "* /\n",
    "* %\n",
    "* //\n",
    "- **"
   ]
  },
  {
   "cell_type": "code",
   "execution_count": 3,
   "metadata": {},
   "outputs": [
    {
     "name": "stdout",
     "output_type": "stream",
     "text": [
      "1244\n",
      "1224\n",
      "12340\n",
      "123.4\n",
      "4\n",
      "123\n",
      "8187505353567209228244052427776\n"
     ]
    }
   ],
   "source": [
    "n=1234\n",
    "print(n+10)\n",
    "print(n-10)\n",
    "print(n*10)\n",
    "print(n/10)\n",
    "print(n%10)\n",
    "print(n//10)\n",
    "print(n**10)"
   ]
  },
  {
   "cell_type": "markdown",
   "metadata": {},
   "source": [
    "### precedence of the arth operators \n",
    "\n",
    "- paranthesis\n",
    "- power\n",
    "- multiplication\n",
    "- addition\n",
    "  \n",
    "  #### left to right"
   ]
  },
  {
   "cell_type": "code",
   "execution_count": 4,
   "metadata": {},
   "outputs": [
    {
     "name": "stdout",
     "output_type": "stream",
     "text": [
      "8.0\n"
     ]
    }
   ],
   "source": [
    "x = 1 + 2 ** 3 / 4 + 5\n",
    "print(x)"
   ]
  },
  {
   "cell_type": "code",
   "execution_count": 5,
   "metadata": {},
   "outputs": [
    {
     "name": "stdout",
     "output_type": "stream",
     "text": [
      "11.0\n"
     ]
    }
   ],
   "source": [
    "x = 1 + 2 ** 3 / 4 * 5\n",
    "print(x)"
   ]
  },
  {
   "cell_type": "markdown",
   "metadata": {},
   "source": [
    "### relational operators\n",
    "- ==\n",
    "- !=\n",
    "- greater(>)\n",
    "- lessthan(<)\n",
    "- less than or equal to(<=)\n",
    "- greater than or equal to(>=)"
   ]
  },
  {
   "cell_type": "code",
   "execution_count": null,
   "metadata": {},
   "outputs": [],
   "source": []
  },
  {
   "cell_type": "markdown",
   "metadata": {},
   "source": [
    "# Logical operators\n",
    "\n",
    "##### used to combine more than single condition\n",
    "\n",
    "* and\n",
    "* or\n",
    "* not"
   ]
  },
  {
   "cell_type": "code",
   "execution_count": 1,
   "metadata": {},
   "outputs": [
    {
     "name": "stdout",
     "output_type": "stream",
     "text": [
      "True\n",
      "False\n"
     ]
    }
   ],
   "source": [
    "i=100\n",
    "a1 = (i>15) and (i<800)\n",
    "a2 = (i>15) and (i>800)\n",
    "print(a1)\n",
    "print(a2)"
   ]
  },
  {
   "cell_type": "markdown",
   "metadata": {},
   "source": [
    "### control flow statements\n",
    "- conditional statements\n",
    "- looping statements\n"
   ]
  },
  {
   "cell_type": "markdown",
   "metadata": {},
   "source": [
    "### syntax\n",
    "\n",
    "### If-else statements\n",
    "- if boolean _ conditions :\n",
    " statements\n",
    "- else :\n",
    " statements"
   ]
  },
  {
   "cell_type": "code",
   "execution_count": 7,
   "metadata": {},
   "outputs": [
    {
     "name": "stdout",
     "output_type": "stream",
     "text": [
      "enter a number6\n",
      "even\n"
     ]
    }
   ],
   "source": [
    "# to check given number is even or odd\n",
    "n = int(input(\"enter a number\"))\n",
    "if n%2 == 0:\n",
    " print(\"even\")\n",
    "else:\n",
    " print(\"odd\")"
   ]
  },
  {
   "cell_type": "code",
   "execution_count": 8,
   "metadata": {},
   "outputs": [
    {
     "name": "stdout",
     "output_type": "stream",
     "text": [
      "enter a number15\n",
      "yes\n"
     ]
    }
   ],
   "source": [
    "# to check given number is perfectly multiple of 3 and 5\n",
    "n = int(input(\"enter a number\"))\n",
    "if n%3 ==0 and n%5 ==0:\n",
    " print(\"yes\")\n",
    "else:\n",
    " print(\"no\")"
   ]
  },
  {
   "cell_type": "code",
   "execution_count": 10,
   "metadata": {},
   "outputs": [
    {
     "name": "stdout",
     "output_type": "stream",
     "text": [
      "enter a number3\n",
      "positive\n"
     ]
    }
   ],
   "source": [
    "# to check given number is negative , positive or zero\n",
    "n = int(input(\"enter a number\"))\n",
    "if n == 0:\n",
    " print(\"zero\")\n",
    "elif n>0:\n",
    " print (\"positive\")\n",
    "elif n<0:\n",
    " print(\"negative\")"
   ]
  },
  {
   "cell_type": "code",
   "execution_count": null,
   "metadata": {},
   "outputs": [],
   "source": []
  }
 ],
 "metadata": {
  "kernelspec": {
   "display_name": "Python 3",
   "language": "python",
   "name": "python3"
  },
  "language_info": {
   "codemirror_mode": {
    "name": "ipython",
    "version": 3
   },
   "file_extension": ".py",
   "mimetype": "text/x-python",
   "name": "python",
   "nbconvert_exporter": "python",
   "pygments_lexer": "ipython3",
   "version": "3.7.0"
  }
 },
 "nbformat": 4,
 "nbformat_minor": 2
}
